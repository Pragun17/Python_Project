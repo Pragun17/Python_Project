{
 "cells": [
  {
   "cell_type": "code",
   "execution_count": 4,
   "metadata": {},
   "outputs": [
    {
     "data": {
      "text/plain": [
       "\"{1:{'name':'dairymilk', 'company':'cadbury', 'price': 10, 'weight': 200, 'rating': 5},2:{'name':'5-Star', 'company':'cadbury', 'price': 10, 'weight': 160, 'rating': 5},3:{'name':'kitkat', 'company':'nestle', 'price': 20, 'weight': 37, 'rating': 4},4:{'name':'perk', 'company':'cadbury', 'price': 10, 'weight': 13, 'rating': 5},5:{'name':'munch', 'company':'nestle', 'price': 20, 'weight': 30, 'rating': 4},6:{'name':'barone', 'company':'nestle', 'price': 10, 'weight': 100, 'rating': 5},7:{'name':'brounville', 'company':'cadbury', 'price': 80, 'weight': 120, 'rating': 4},8:{'name':'silk', 'company':'cadbury', 'price': 80, 'weight': 150, 'rating': 5},9:{'name':'safari', 'company':'gandour', 'price': 50, 'weight': 80, 'rating': 4},10:{'name':'kisses', 'company':'hersheys', 'price': 100, 'weight': 100, 'rating': 5},11:{'name':'galaxy', 'company':'galaxy', 'price': 15, 'weight': 30, 'rating': 3},12:{'name':'nutties', 'company':'nestle', 'price': 40, 'weight': 100, 'rating': 5},13:{'name':'eclairs', 'company':'cadbury', 'price': 60, 'weight': 60, 'rating': 5},14:{'name':'snickers-bar', 'company':'snickers', 'price': 70, 'weight': 50, 'rating': 4},15:{'name':'milkibar', 'company':'nestle', 'price': 10, 'weight': 35, 'rating': 5},16:{'name':'chocominies', 'company':'amul', 'price': 100, 'weight': 100, 'rating': 5},17:{'name':'gems', 'company':'cadbury', 'price': 10, 'weight': 20, 'rating': 5},18:{'name':'kiss me', 'company':'parle', 'price': 30, 'weight': 60, 'rating': 4},19:{'name':'shots', 'company':'cadbury', 'price': 20, 'weight': 50, 'rating':4},20:{'name':'milk chocolate', 'company':'nestle', 'price': 10, 'weight': 50, 'rating': 5},21:{'name':'milk choclate', 'company':'amul', 'price': 100, 'weight': 150, 'rating': 4},22:{'name':'kinder-joy', 'company':'kinder', 'price': 200, 'weight': 100, 'rating': 3},23:{'name':'tobelerone', 'company':'tobelerone', 'price': 220, 'weight': 150, 'rating': 4},24:{'name':'ferrero rocher', 'company':'ferrero', 'price': 850, 'weight': 300, 'rating': 5},25:{'name':'classic', 'company':'nestle', 'price': 10, 'weight': 30, 'rating': 5},26:{'name':'fruit and nut', 'company':'cadbury', 'price': 50, 'weight': 60, 'rating': 5},27:{'name':'crackle', 'company':'cadbury', 'price': 30, 'weight': 50, 'rating': 5},28:{'name':'melody', 'company':'parle', 'price': 100, 'weight': 300, 'rating': 5},29:{'name':'hoppits', 'company':'schmitten', 'price': 20, 'weight': 30, 'rating': 4},30:{'name':'butter toffies','company':'tiffany', 'price': 600, 'weight': 650, 'rating': 5}}\""
      ]
     },
     "execution_count": 4,
     "metadata": {},
     "output_type": "execute_result"
    }
   ],
   "source": [
    "import json\n",
    "fd = open('chocolates.txt', 'r')\n",
    "txt = fd.read()\n",
    "txt"
   ]
  },
  {
   "cell_type": "code",
   "execution_count": 5,
   "metadata": {},
   "outputs": [],
   "source": [
    "items_dict = {1:{'name':'dairymilk', 'company':'cadbury', 'price': 10, 'weight': 200, 'rating': 5},2:{'name':'5-Star', 'company':'cadbury', 'price': 10, 'weight': 160, 'rating': 5},3:{'name':'kitkat', 'company':'nestle', 'price': 20, 'weight': 37, 'rating': 4},4:{'name':'perk', 'company':'cadbury', 'price': 10, 'weight': 13, 'rating': 5},5:{'name':'munch', 'company':'nestle', 'price': 20, 'weight': 30, 'rating': 4},6:{'name':'barone', 'company':'nestle', 'price': 10, 'weight': 100, 'rating': 5},7:{'name':'brounville', 'company':'cadbury', 'price': 80, 'weight': 120, 'rating': 4},8:{'name':'silk', 'company':'cadbury', 'price': 80, 'weight': 150, 'rating': 5},9:{'name':'safari', 'company':'gandour', 'price': 50, 'weight': 80, 'rating': 4},10:{'name':'kisses', 'company':'hersheys', 'price': 100, 'weight': 100, 'rating': 5},11:{'name':'galaxy', 'company':'galaxy', 'price': 15, 'weight': 30, 'rating': 3},12:{'name':'nutties', 'company':'nestle', 'price': 40, 'weight': 100, 'rating': 5},13:{'name':'eclairs', 'company':'cadbury', 'price': 60, 'weight': 60, 'rating': 5},14:{'name':'snickers-bar', 'company':'snickers', 'price': 70, 'weight': 50, 'rating': 4},15:{'name':'milkibar', 'company':'nestle', 'price': 10, 'weight': 35, 'rating': 5},16:{'name':'chocominies', 'company':'amul', 'price': 100, 'weight': 100, 'rating': 5},17:{'name':'gems', 'company':'cadbury', 'price': 10, 'weight': 20, 'rating': 5},18:{'name':'kiss me', 'company':'parle', 'price': 30, 'weight': 60, 'rating': 4},19:{'name':'shots', 'company':'cadbury', 'price': 20, 'weight': 50, 'rating':4},20:{'name':'milk chocolate', 'company':'nestle', 'price': 10, 'weight': 50, 'rating': 5},21:{'name':'milk choclate', 'company':'amul', 'price': 100, 'weight': 150, 'rating': 4},22:{'name':'kinder-joy', 'company':'kinder', 'price': 200, 'weight': 100, 'rating': 3},23:{'name':'tobelerone', 'company':'tobelerone', 'price': 220, 'weight': 150, 'rating': 4},24:{'name':'ferrero rocher', 'company':'ferrero', 'price': 850, 'weight': 300, 'rating': 5},25:{'name':'classic', 'company':'nestle', 'price': 10, 'weight': 30, 'rating': 5},26:{'name':'fruit and nut', 'company':'cadbury', 'price': 50, 'weight': 60, 'rating': 5},27:{'name':'crackle', 'company':'cadbury', 'price': 30, 'weight': 50, 'rating': 5},28:{'name':'melody', 'company':'parle', 'price': 100, 'weight': 300, 'rating': 5},29:{'name':'hoppits', 'company':'schmitten', 'price': 20, 'weight': 30, 'rating': 4},30:{'name':'butter toffies','company':'tiffany', 'price': 600, 'weight': 650, 'rating': 5}}"
   ]
  },
  {
   "cell_type": "code",
   "execution_count": null,
   "metadata": {},
   "outputs": [],
   "source": [
    "user_choice = input(\"Type y to see the items on the shelf (i to ignore): \")\n",
    "if user_choice == 'y':\n",
    "    print(items_dict)\n",
    "elif user_choice == 'i':\n",
    "    pass\n",
    "else:\n",
    "    pass"
   ]
  },
  {
   "cell_type": "code",
   "execution_count": null,
   "metadata": {},
   "outputs": [],
   "source": [
    "user_item = int(input(\"Enter the id of the product you want: \"))\n",
    "no_of_items = int(input(\"Enter the quantity of items you want: \"))\n",
    "total_amount = items_dict[user_item]['price'] * no_of_items\n",
    "print(\"You have ordered \" + items_dict[user_item]['name'] + \". Your total price is \" + str(total_amount))\n",
    "order_dict = {'name':items_dict[user_item]['name'], 'quantity':no_of_items, 'price':total_amount}\n",
    "js = json.dumps(order_dict)\n",
    "ord_fl = open('order.json', 'w')\n",
    "ord_fl.write(js)\n",
    "ord_fl.close()"
   ]
  },
  {
   "cell_type": "code",
   "execution_count": null,
   "metadata": {},
   "outputs": [],
   "source": []
  }
 ],
 "metadata": {
  "kernelspec": {
   "display_name": "Python 3",
   "language": "python",
   "name": "python3"
  },
  "language_info": {
   "codemirror_mode": {
    "name": "ipython",
    "version": 3
   },
   "file_extension": ".py",
   "mimetype": "text/x-python",
   "name": "python",
   "nbconvert_exporter": "python",
   "pygments_lexer": "ipython3",
   "version": "3.7.6"
  }
 },
 "nbformat": 4,
 "nbformat_minor": 4
}
